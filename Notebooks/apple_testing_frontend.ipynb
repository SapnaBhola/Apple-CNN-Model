{
  "cells": [
    {
      "cell_type": "code",
      "execution_count": 1,
      "metadata": {
        "colab": {
          "base_uri": "https://localhost:8080/"
        },
        "id": "YU6nSCGIjSOT",
        "outputId": "1637de0a-368f-4ba8-e4d7-9294d624f423"
      },
      "outputs": [
        {
          "name": "stdout",
          "output_type": "stream",
          "text": [
            "Mounted at /content/drive\n"
          ]
        }
      ],
      "source": [
        "from google.colab import drive\n",
        "drive.mount('/content/drive')"
      ]
    },
    {
      "cell_type": "code",
      "execution_count": 2,
      "metadata": {
        "colab": {
          "base_uri": "https://localhost:8080/"
        },
        "id": "Sk2QPPUylEek",
        "outputId": "4ca7e692-3a8d-4a2c-c339-b40587ec253b"
      },
      "outputs": [
        {
          "data": {
            "text/plain": [
              "['final_model.keras',\n",
              " 'test',\n",
              " 'train',\n",
              " 'CheckPoints',\n",
              " 'final_apple_model.keras']"
            ]
          },
          "execution_count": 2,
          "metadata": {},
          "output_type": "execute_result"
        }
      ],
      "source": [
        "# To list files in the directory where you saved the model\n",
        "import os\n",
        "os.listdir(\"/content/drive/MyDrive/Apple_dataset\")  # Look for your model file in the MyDrive folder"
      ]
    },
    {
      "cell_type": "code",
      "execution_count": 3,
      "metadata": {
        "colab": {
          "base_uri": "https://localhost:8080/"
        },
        "id": "o4MmVV56mWs-",
        "outputId": "c68c94a9-c571-47fc-8337-6e705334bba9"
      },
      "outputs": [
        {
          "name": "stdout",
          "output_type": "stream",
          "text": [
            "\u001b[1m1/1\u001b[0m \u001b[32m━━━━━━━━━━━━━━━━━━━━\u001b[0m\u001b[37m\u001b[0m \u001b[1m0s\u001b[0m 297ms/step\n",
            "✅ Actual Class:    Apple___Black_rot\n",
            "✅ Predicted Class: Apple___Black_rot\n"
          ]
        }
      ],
      "source": [
        "import cv2\n",
        "import numpy as np\n",
        "from tensorflow.keras.models import load_model\n",
        "from tensorflow.keras.preprocessing.image import img_to_array\n",
        "\n",
        "# Load the trained Apple disease model\n",
        "model_path = \"/content/drive/MyDrive/Apple_dataset/final_apple_model.keras\"\n",
        "model = load_model(model_path)\n",
        "\n",
        "# Provide the full path to your test image\n",
        "test_image_path = \"/content/drive/MyDrive/Apple_dataset/test/black_rot/02168189-aa75-4284-a7f0-8ca5901ea783___JR_FrgE.S 2948_90deg.JPG\"\n",
        "\n",
        "# ✅ Define class labels used during training\n",
        "class_labels = [\n",
        "    'Apple___Apple_scab',\n",
        "    'Apple___Black_rot',\n",
        "    'Apple___Cedar_apple_rust',\n",
        "    'Apple___healthy'\n",
        "]\n",
        "\n",
        "# 🔍 Known actual class of this test image (manually specify or read from filename)\n",
        "actual_class_name = 'Apple___Black_rot'  # ← Update this as per your test image\n",
        "\n",
        "# Read and preprocess the image\n",
        "image = cv2.imread(test_image_path)\n",
        "if image is None:\n",
        "    print(\"❌ Error: Image not found at the specified path.\")\n",
        "else:\n",
        "    image = cv2.resize(image, (256, 256))\n",
        "    image = img_to_array(image)\n",
        "    image = np.expand_dims(image, axis=0)\n",
        "    image = image / 255.0\n",
        "\n",
        "    # Make a prediction\n",
        "    prediction = model.predict(image)\n",
        "    predicted_label = np.argmax(prediction)\n",
        "    predicted_class_name = class_labels[predicted_label]\n",
        "\n",
        "    # ✅ Print both actual and predicted class\n",
        "    print(f\"✅ Actual Class:    {actual_class_name}\")\n",
        "    print(f\"✅ Predicted Class: {predicted_class_name}\")\n"
      ]
    },
    {
      "cell_type": "code",
      "execution_count": 5,
      "metadata": {
        "colab": {
          "base_uri": "https://localhost:8080/"
        },
        "id": "ElaCTsWbmp75",
        "outputId": "f73c6210-acd1-4817-cfba-3893ef93e49a"
      },
      "outputs": [
        {
          "name": "stdout",
          "output_type": "stream",
          "text": [
            "✅ app.py saved successfully to Google Drive.\n"
          ]
        }
      ],
      "source": [
        "code = '''\n",
        "import streamlit as st\n",
        "import numpy as np\n",
        "import tensorflow as tf\n",
        "import cv2\n",
        "from keras.preprocessing.image import img_to_array\n",
        "from PIL import Image\n",
        "import base64\n",
        "from io import BytesIO\n",
        "\n",
        "# Load the trained model\n",
        "model_path = \"/content/drive/MyDrive/Apple_dataset/final_apple_model.keras\"\n",
        "model = tf.keras.models.load_model(model_path)\n",
        "\n",
        "class_labels = [\n",
        "    'Apple___Apple_scab',\n",
        "    'Apple___Black_rot',\n",
        "    'Apple___Cedar_apple_rust',\n",
        "    'Apple___healthy'\n",
        "]\n",
        "\n",
        "care_recommendations = {\n",
        "    'Apple___Apple_scab': [\n",
        "        \"Prune infected leaves and twigs.\",\n",
        "        \"Apply fungicide in early spring.\",\n",
        "        \"Avoid overhead irrigation.\"\n",
        "    ],\n",
        "    'Apple___Black_rot': [\n",
        "        \"Remove and destroy infected fruit and leaves.\",\n",
        "        \"Use fungicide sprays during the growing season.\",\n",
        "        \"Clean up plant debris regularly.\"\n",
        "    ],\n",
        "    'Apple___Cedar_apple_rust': [\n",
        "        \"Remove nearby cedar trees if possible.\",\n",
        "        \"Use resistant apple varieties.\",\n",
        "        \"Apply fungicides during early spring.\"\n",
        "    ],\n",
        "    'Apple___healthy': [\n",
        "        \"Maintain proper spacing for airflow.\",\n",
        "        \"Regularly inspect leaves for early signs of disease.\",\n",
        "        \"Ensure proper fertilization and watering schedule.\"\n",
        "    ]\n",
        "}\n",
        "\n",
        "def preprocess_image(image):\n",
        "    image = cv2.resize(image, (256, 256))\n",
        "    image = img_to_array(image)\n",
        "    image = image / 255.0\n",
        "    image = np.expand_dims(image, axis=0)\n",
        "    return image\n",
        "\n",
        "st.set_page_config(page_title=\"Apple Leaf Disease Detector\", page_icon=\"🌿\", layout=\"centered\")\n",
        "\n",
        "st.markdown(\"\"\"<style>\n",
        ".result-card {\n",
        "    padding: 1rem;\n",
        "    border-radius: 0.5rem;\n",
        "    margin-top: 1rem;\n",
        "}\n",
        ".result-card.healthy {\n",
        "    background-color: #e0f7e9;\n",
        "    border: 1px solid #34a853;\n",
        "}\n",
        ".result-card.diseased {\n",
        "    background-color: #ffe0e0;\n",
        "    border: 1px solid #ea4335;\n",
        "}\n",
        ".confidence-meter {\n",
        "    background-color: #f0f0f0;\n",
        "    border-radius: 20px;\n",
        "    height: 20px;\n",
        "    margin-top: 10px;\n",
        "}\n",
        ".confidence-fill {\n",
        "    background-color: #34a853;\n",
        "    height: 100%;\n",
        "    border-radius: 20px;\n",
        "}\n",
        "</style>\"\"\", unsafe_allow_html=True)\n",
        "\n",
        "st.markdown(\"\"\"\n",
        "    <div class=\"header\">\n",
        "        <h1><b>🌿 Botanical Care:</b></h1>\n",
        "        <h2>A Plant Disease Detection System</h2>\n",
        "        <p>Upload a leaf image to check for common diseases</p>\n",
        "    </div>\n",
        "\"\"\", unsafe_allow_html=True)\n",
        "\n",
        "uploaded_file = st.file_uploader(\"Choose an apple leaf image...\", type=[\"jpg\", \"png\", \"jpeg\"], label_visibility=\"collapsed\")\n",
        "\n",
        "if uploaded_file is not None:\n",
        "    with st.spinner('Analyzing your leaf...'):\n",
        "        # Load image and show original size using HTML\n",
        "        pil_image = Image.open(uploaded_file)\n",
        "        buffered = BytesIO()\n",
        "        pil_image.save(buffered, format=\"PNG\")\n",
        "        img_b64 = base64.b64encode(buffered.getvalue()).decode()\n",
        "        st.markdown(f\"\"\"\n",
        "            <div style=\"text-align:center; margin-bottom: 10px;\">\n",
        "                <img src=\"data:image/png;base64,{img_b64}\" style=\"max-width:100%; height:auto;\"/>\n",
        "            </div>\n",
        "        \"\"\", unsafe_allow_html=True)\n",
        "\n",
        "        # Prepare for prediction\n",
        "        image_np = np.array(pil_image.convert('RGB'))\n",
        "        image_cv2 = cv2.cvtColor(image_np, cv2.COLOR_RGB2BGR)\n",
        "\n",
        "        processed_image = preprocess_image(image_cv2)\n",
        "        prediction = model.predict(processed_image)\n",
        "        predicted_class = class_labels[np.argmax(prediction)]\n",
        "        confidence = np.max(prediction) * 100\n",
        "\n",
        "        st.markdown(f'<div class=\"result-card {\"healthy\" if \"healthy\" in predicted_class else \"diseased\"}\">', unsafe_allow_html=True)\n",
        "\n",
        "        threshold = 60\n",
        "        if confidence < threshold:\n",
        "            st.warning(\"Unable to confidently detect disease. Try uploading a clearer apple leaf image.\")\n",
        "        else:\n",
        "            if \"healthy\" in predicted_class:\n",
        "                st.success(\"🍃 The apple leaf is healthy.\")\n",
        "            else:\n",
        "                st.error(f\"🚨 Disease Detected: {predicted_class.replace('___', ' ').title()}\")\n",
        "\n",
        "            st.write(f\"**Confidence:** {confidence:.1f}%\")\n",
        "            st.markdown(f\"\"\"\n",
        "                <div class=\"confidence-meter\">\n",
        "                    <div class=\"confidence-fill\" style=\"width:{confidence}%\"></div>\n",
        "                </div>\n",
        "            \"\"\", unsafe_allow_html=True)\n",
        "\n",
        "            with st.expander(\"📌 Care Recommendations\"):\n",
        "                for tip in care_recommendations[predicted_class]:\n",
        "                    st.write(f\"- {tip}\")\n",
        "\n",
        "        st.markdown('</div>', unsafe_allow_html=True)\n",
        "\n",
        "st.markdown(\"\"\"\n",
        "    <div style=\"text-align: center; color: #666; margin-top: 2rem;\">\n",
        "        <small>For accurate diagnosis, consult an agricultural expert.</small>\n",
        "    </div>\n",
        "\"\"\", unsafe_allow_html=True)\n",
        "\n",
        "'''\n",
        "\n",
        "# ✅ Save it to app.py\n",
        "with open(\"/content/drive/MyDrive/Apple_dataset/app.py\", \"w\") as f:\n",
        "    f.write(code)\n",
        "\n",
        "print(\"✅ app.py saved successfully to Google Drive.\")\n"
      ]
    },
    {
      "cell_type": "code",
      "execution_count": 6,
      "metadata": {
        "colab": {
          "base_uri": "https://localhost:8080/"
        },
        "id": "zCDUO-LinDWN",
        "outputId": "f4de1aec-c33b-4ae6-8c8f-c17294f8f8f1"
      },
      "outputs": [
        {
          "name": "stdout",
          "output_type": "stream",
          "text": [
            "\u001b[2K     \u001b[90m━━━━━━━━━━━━━━━━━━━━━━━━━━━━━━━━━━━━━━━━\u001b[0m \u001b[32m44.3/44.3 kB\u001b[0m \u001b[31m1.9 MB/s\u001b[0m eta \u001b[36m0:00:00\u001b[0m\n",
            "\u001b[2K   \u001b[90m━━━━━━━━━━━━━━━━━━━━━━━━━━━━━━━━━━━━━━━━\u001b[0m \u001b[32m10.1/10.1 MB\u001b[0m \u001b[31m75.6 MB/s\u001b[0m eta \u001b[36m0:00:00\u001b[0m\n",
            "\u001b[2K   \u001b[90m━━━━━━━━━━━━━━━━━━━━━━━━━━━━━━━━━━━━━━━━\u001b[0m \u001b[32m6.9/6.9 MB\u001b[0m \u001b[31m97.8 MB/s\u001b[0m eta \u001b[36m0:00:00\u001b[0m\n",
            "\u001b[2K   \u001b[90m━━━━━━━━━━━━━━━━━━━━━━━━━━━━━━━━━━━━━━━━\u001b[0m \u001b[32m79.1/79.1 kB\u001b[0m \u001b[31m5.7 MB/s\u001b[0m eta \u001b[36m0:00:00\u001b[0m\n",
            "\u001b[?25h"
          ]
        }
      ],
      "source": [
        "!pip install streamlit pyngrok --quiet"
      ]
    },
    {
      "cell_type": "code",
      "execution_count": null,
      "metadata": {
        "colab": {
          "base_uri": "https://localhost:8080/"
        },
        "id": "Z8AHe03BoDnk",
        "outputId": "0bfa6341-bf6b-42bd-e78b-116619652907"
      },
      "outputs": [
        {
          "name": "stdout",
          "output_type": "stream",
          "text": [
            "Requirement already satisfied: pyngrok in /usr/local/lib/python3.11/dist-packages (7.2.12)\n",
            "Requirement already satisfied: PyYAML>=5.1 in /usr/local/lib/python3.11/dist-packages (from pyngrok) (6.0.2)\n"
          ]
        }
      ],
      "source": [
        "!pip install streamlit -q\n",
        "!pip install pyngrok"
      ]
    },
    {
      "cell_type": "code",
      "execution_count": 8,
      "metadata": {
        "colab": {
          "base_uri": "https://localhost:8080/"
        },
        "id": "7lLB9kXsoISu",
        "outputId": "8c518234-6d42-415d-d856-42ac5cbe012e"
      },
      "outputs": [
        {
          "name": "stdout",
          "output_type": "stream",
          "text": [
            "Streamlit, version 1.46.1\n"
          ]
        }
      ],
      "source": [
        "!streamlit version"
      ]
    },
    {
      "cell_type": "code",
      "execution_count": 9,
      "metadata": {
        "colab": {
          "base_uri": "https://localhost:8080/"
        },
        "id": "4OJkMCmBoL9k",
        "outputId": "0a973812-1509-4dc3-be3e-272f3d620c14"
      },
      "outputs": [
        {
          "name": "stdout",
          "output_type": "stream",
          "text": [
            "Authtoken saved to configuration file: /root/.config/ngrok/ngrok.yml\n"
          ]
        }
      ],
      "source": [
        "!ngrok authtoken 2v9qExBrDuG7JJbV2OWF6W4ruKZ_5GJgSkP7crEPCrHck2Ywj"
      ]
    },
    {
      "cell_type": "code",
      "execution_count": 10,
      "metadata": {
        "id": "3pWPFSiYoQKx"
      },
      "outputs": [],
      "source": [
        "!pkill -f streamlit\n",
        "!pkill -f ngrok"
      ]
    },
    {
      "cell_type": "code",
      "execution_count": 11,
      "metadata": {
        "id": "rO2CffgVoTp6"
      },
      "outputs": [],
      "source": [
        "!streamlit run /content/drive/MyDrive/Apple_dataset/app.py &>/dev/null &"
      ]
    },
    {
      "cell_type": "markdown",
      "metadata": {
        "id": "kVSKXMvSx5kH"
      },
      "source": []
    },
    {
      "cell_type": "code",
      "execution_count": 12,
      "metadata": {
        "id": "T-3p34HUokmL"
      },
      "outputs": [],
      "source": [
        "!mkdir -p ~/.streamlit/logs\n",
        "!streamlit run app.py --server.port 8501 > ~/.streamlit/logs/streamlit.log 2>&1 &"
      ]
    },
    {
      "cell_type": "code",
      "execution_count": 13,
      "metadata": {
        "colab": {
          "base_uri": "https://localhost:8080/"
        },
        "id": "HrP31HoXolgt",
        "outputId": "f47c1fc1-4781-46b3-c209-a6c78944eca9"
      },
      "outputs": [
        {
          "name": "stdout",
          "output_type": "stream",
          "text": [
            "COMMAND    PID USER   FD   TYPE DEVICE SIZE/OFF NODE NAME\n",
            "streamlit 4073 root    6u  IPv4 125826      0t0  TCP *:8501 (LISTEN)\n",
            "streamlit 4073 root    7u  IPv6 125827      0t0  TCP *:8501 (LISTEN)\n"
          ]
        }
      ],
      "source": [
        "!lsof -i :8501"
      ]
    },
    {
      "cell_type": "code",
      "execution_count": 14,
      "metadata": {
        "colab": {
          "base_uri": "https://localhost:8080/"
        },
        "id": "lmLA6UP_oomT",
        "outputId": "913beb3d-3efa-4f9c-e3cc-6413a2e14355"
      },
      "outputs": [
        {
          "name": "stdout",
          "output_type": "stream",
          "text": [
            "Public URL: NgrokTunnel: \"https://2d714386aa84.ngrok-free.app\" -> \"http://localhost:8501\"\n"
          ]
        }
      ],
      "source": [
        "from pyngrok import ngrok\n",
        "\n",
        "# Restart Ngrok on port 8501\n",
        "public_url = ngrok.connect(8501)\n",
        "print(\"Public URL:\", public_url)"
      ]
    },
    {
      "cell_type": "code",
      "execution_count": null,
      "metadata": {
        "id": "PQibBp43aO4y"
      },
      "outputs": [],
      "source": []
    },
    {
      "cell_type": "code",
      "execution_count": null,
      "metadata": {
        "id": "Bx8Dhck1aOM2"
      },
      "outputs": [],
      "source": []
    },
    {
      "cell_type": "code",
      "execution_count": null,
      "metadata": {
        "id": "xrKzY9NlaOJe"
      },
      "outputs": [],
      "source": []
    },
    {
      "cell_type": "code",
      "execution_count": null,
      "metadata": {
        "id": "uGvM4nYVjpbX"
      },
      "outputs": [],
      "source": []
    }
  ],
  "metadata": {
    "colab": {
      "provenance": []
    },
    "kernelspec": {
      "display_name": "Python 3",
      "name": "python3"
    },
    "language_info": {
      "name": "python"
    }
  },
  "nbformat": 4,
  "nbformat_minor": 0
}
